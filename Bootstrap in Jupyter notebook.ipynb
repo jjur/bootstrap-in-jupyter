{
 "cells": [
  {
   "cell_type": "markdown",
   "metadata": {},
   "source": [
    "# Bootstap in Jupyter Notebook Documentation\n"
   ]
  },
  {
   "cell_type": "markdown",
   "metadata": {},
   "source": [
    "## Alerts\n",
    "Provide contextual feedback messages for typical user actions with the handful of available and flexible alert messages."
   ]
  },
  {
   "cell_type": "markdown",
   "metadata": {},
   "source": [
    "<div class=\"alert alert-block alert-success\">\n",
    "<b>Green one</b> Use green boxes sparingly, and only for some specific \n",
    "purpose that the other boxes can't cover. For example, if you have a lot \n",
    "of related content to link to, maybe you decide to use green boxes for \n",
    "related links from each section of a notebook.\n",
    "</div>"
   ]
  },
  {
   "cell_type": "markdown",
   "metadata": {},
   "source": [
    "<div class=\"alert alert-block alert-danger\">\n",
    "<b>Just don't:</b> In general, avoid the red boxes. These should only be\n",
    "used for actions that might cause data loss or another major issue.\n",
    "</div>"
   ]
  },
  {
   "cell_type": "markdown",
   "metadata": {},
   "source": [
    "<div class=\"alert alert-block alert-warning\">\n",
    "<b>🐍 Just useful snake comments </b>  Use yellow boxes for examples that are not \n",
    "inside code cells, or use for mathematical formulas if needed.\n",
    "</div>"
   ]
  },
  {
   "cell_type": "markdown",
   "metadata": {},
   "source": [
    "<div class=\"alert alert-block alert-info\">\n",
    "<b>Tip:</b> Use blue boxes (alert-info) for tips and notes. \n",
    "If it’s a note, you don’t have to include the word “Note”.\n",
    "</div>"
   ]
  },
  {
   "cell_type": "markdown",
   "metadata": {},
   "source": [
    "### Alerts with links\n",
    "\n",
    "```html\n",
    "<div class=\"alert alert-success\" role=\"alert\">\n",
    "  <a href=\"#\" class=\"alert-link\">...</a>\n",
    "</div>\n",
    "```"
   ]
  },
  {
   "cell_type": "markdown",
   "metadata": {},
   "source": [
    "<div class=\"alert alert-block alert-success\">\n",
    "<b>Green one</b> For more informations visit <a href=\"https://getbootstrap.com/docs/3.4/components/#alerts\" class=\"alert-link\"> Bootstrap Documentation.</a>\n",
    "</div>"
   ]
  },
  {
   "cell_type": "markdown",
   "metadata": {},
   "source": [
    "## Panels\n",
    "While not always necessary, sometimes you need to put your text in a box. For those situations, try the panel component."
   ]
  },
  {
   "cell_type": "markdown",
   "metadata": {},
   "source": [
    "<div class=\"panel panel-default\">\n",
    "  <div class=\"panel-heading\">Lorem Ipsum</div>\n",
    "  <div class=\"panel-body\">\n",
    "\n",
    "Lorem ipsum dolor sit amet, consectetur adipiscing elit. Vestibulum nec placerat nibh, quis finibus turpis. Mauris auctor leo ut augue commodo ultrices. Integer egestas sed dolor vel cursus. Nam dignissim interdum massa, vel aliquet est tristique vitae. Morbi scelerisque, ligula nec eleifend dapibus, lorem mi vulputate metus, quis ullamcorper urna mi eget mi. Nulla ac diam nec libero pulvinar varius sit amet non velit. Aliquam erat volutpat. Integer facilisis neque a bibendum sodales. Fusce elementum ac magna et luctus. Ut quis ligula tincidunt, vulputate erat quis, porta nibh. Aenean ac gravida risus. Quisque malesuada tellus eu justo sollicitudin dictum ac a diam. \n",
    "  </div>\n",
    "</div>"
   ]
  },
  {
   "cell_type": "markdown",
   "metadata": {},
   "source": [
    "<div class=\"panel panel-primary\">\n",
    "  <div class=\"panel-heading\">\n",
    "    <h3 class=\"panel-title\">Lorem Ipsum</h3>\n",
    "  </div>\n",
    "  <div class=\"panel-body\">\n",
    "Lorem ipsum dolor sit amet, consectetur adipiscing elit. Vestibulum nec placerat nibh, quis finibus turpis. Mauris auctor leo ut augue commodo ultrices. Integer egestas sed dolor vel cursus. Nam dignissim interdum massa, vel aliquet est tristique vitae. Morbi scelerisque, ligula nec eleifend dapibus, lorem mi vulputate metus, quis ullamcorper urna mi eget mi. Nulla ac diam nec libero pulvinar varius sit amet non velit. Aliquam erat volutpat. Integer facilisis neque a bibendum sodales. Fusce elementum ac magna et luctus. Ut quis ligula tincidunt, vulputate erat quis, porta nibh. Aenean ac gravida risus. Quisque malesuada tellus eu justo sollicitudin dictum ac a diam. \n",
    "  </div>\n",
    "</div>"
   ]
  },
  {
   "cell_type": "markdown",
   "metadata": {},
   "source": [
    "<div class=\"panel panel-info\">\n",
    "  <div class=\"panel-heading\">\n",
    "    <h3 class=\"panel-title\">Lorem Ipsum</h3>\n",
    "  </div>\n",
    "  <div class=\"panel-body\">\n",
    "Lorem ipsum dolor sit amet, consectetur adipiscing elit. Vestibulum nec placerat nibh, quis finibus turpis. Mauris auctor leo ut augue commodo ultrices. Integer egestas sed dolor vel cursus. Nam dignissim interdum massa.\n",
    "  </div>\n",
    "</div>"
   ]
  },
  {
   "cell_type": "markdown",
   "metadata": {},
   "source": [
    "<div class=\"panel panel-success\">\n",
    "  <div class=\"panel-heading\">\n",
    "    <h3 class=\"panel-title\">Lorem Ipsum</h3>\n",
    "  </div>\n",
    "  <div class=\"panel-body\">\n",
    "Lorem ipsum dolor sit amet, consectetur adipiscing elit. Vestibulum nec placerat nibh, quis finibus turpis. Mauris auctor leo ut augue commodo ultrices. Integer egestas sed dolor vel cursus. Nam dignissim interdum massa.\n",
    "  </div>\n",
    "</div>"
   ]
  },
  {
   "cell_type": "markdown",
   "metadata": {},
   "source": [
    "<div class=\"panel panel-warning\">\n",
    "  <div class=\"panel-heading\">\n",
    "    <h3 class=\"panel-title\">Lorem Ipsum</h3>\n",
    "  </div>\n",
    "  <div class=\"panel-body\">\n",
    "Lorem ipsum dolor sit amet, consectetur adipiscing elit. Vestibulum nec placerat nibh, quis finibus turpis. Mauris auctor leo ut augue commodo ultrices. Integer egestas sed dolor vel cursus. Nam dignissim interdum massa.conjecture.\n",
    "  </div>\n",
    "</div>"
   ]
  },
  {
   "cell_type": "markdown",
   "metadata": {},
   "source": [
    "<div class=\"panel panel-danger\">\n",
    "  <div class=\"panel-heading\">\n",
    "    <h3 class=\"panel-title\">Lorem Ipsum</h3>\n",
    "  </div>\n",
    "  <div class=\"panel-body\">\n",
    "Lorem ipsum dolor sit amet, consectetur adipiscing elit. Vestibulum nec placerat nibh, quis finibus turpis. Mauris auctor leo ut augue commodo ultrices. Integer egestas sed dolor vel cursus. Nam dignissim interdum massa.\n",
    "  </div>\n",
    "</div>"
   ]
  },
  {
   "cell_type": "markdown",
   "metadata": {},
   "source": [
    "## Blockquotes\n",
    "*This is some kind of reverse engeneering, because i did not find it in the documentation, but by appling styles from other elements we can achieve interesting results*\n",
    "### Colors can be added using classes\n",
    "#### Color of strip on the left side\n",
    "Same as classes for panels:\n",
    "- panel-default: grey\n",
    "- panel-info: light blue\n",
    "- panel-primary: blue\n",
    "- panel-success: green\n",
    "- panel-warning: yellow\n",
    "- panel-danger: red"
   ]
  },
  {
   "cell_type": "markdown",
   "metadata": {},
   "source": [
    "<blockquote class=\"panel-default\">\n",
    "     “Lorem ipsum dolor sit amet, consectetur adipiscing elit. Vestibulum nec placerat nibh, quis finibus turpis. Mauris auctor leo ut augue commodo ultrices. Integer egestas sed dolor vel cursus. Nam dignissim interdum massa.”\n",
    "<small>Lorem Ipsum | Class of 2019</small>\n",
    "    </blockquote>"
   ]
  },
  {
   "cell_type": "markdown",
   "metadata": {},
   "source": [
    "<blockquote class=\"panel-info\">\n",
    "     “Lorem ipsum dolor sit amet, consectetur adipiscing elit. Vestibulum nec placerat nibh, quis finibus turpis. Mauris auctor leo ut augue commodo ultrices. Integer egestas sed dolor vel cursus. Nam dignissim interdum massa.”\n",
    "<small>Lorem Ipsum | Class of 2019</small>\n",
    "    </blockquote>"
   ]
  },
  {
   "cell_type": "markdown",
   "metadata": {},
   "source": [
    "<blockquote class=\"panel-primary\">\n",
    "     “Lorem ipsum dolor sit amet, consectetur adipiscing elit. Vestibulum nec placerat nibh, quis finibus turpis. Mauris auctor leo ut augue commodo ultrices. Integer egestas sed dolor vel cursus. Nam dignissim interdum massa.”\n",
    "<small>Lorem Ipsum | Class of 2019</small>\n",
    "    </blockquote>"
   ]
  },
  {
   "cell_type": "markdown",
   "metadata": {},
   "source": [
    "<blockquote class=\"panel-success\">\n",
    "     “TLorem ipsum dolor sit amet, consectetur adipiscing elit. Vestibulum nec placerat nibh, quis finibus turpis. Mauris auctor leo ut augue commodo ultrices. Integer egestas sed dolor vel cursus. Nam dignissim interdum massa.”\n",
    "<small>Lorem Ipsum | Class of 2019</small>\n",
    "    </blockquote>"
   ]
  },
  {
   "cell_type": "markdown",
   "metadata": {},
   "source": [
    "<blockquote class=\"panel-warning\">\n",
    "     “Lorem ipsum dolor sit amet, consectetur adipiscing elit. Vestibulum nec placerat nibh, quis finibus turpis. Mauris auctor leo ut augue commodo ultrices. Integer egestas sed dolor vel cursus. Nam dignissim interdum massa.”\n",
    "<small>Lorem Ipsum | Class of 2019</small>\n",
    "    </blockquote>"
   ]
  },
  {
   "cell_type": "markdown",
   "metadata": {},
   "source": [
    "<blockquote class=\"panel-danger\">\n",
    "     “Lorem ipsum dolor sit amet, consectetur adipiscing elit. Vestibulum nec placerat nibh, quis finibus turpis. Mauris auctor leo ut augue commodo ultrices. Integer egestas sed dolor vel cursus. Nam dignissim interdum massa.”\n",
    "<small>Lorem Ipsum | Class of 2019</small>\n",
    "    </blockquote>"
   ]
  },
  {
   "cell_type": "markdown",
   "metadata": {},
   "source": [
    "### Full color filled box\n",
    "Same as classes for alerts:\n",
    "- panel-info: light blue\n",
    "- panel-success: green\n",
    "- panel-warning: yellow\n",
    "- panel-danger: red"
   ]
  },
  {
   "cell_type": "markdown",
   "metadata": {},
   "source": [
    "<blockquote class=\"alert-info\">\n",
    "     “Lorem ipsum dolor sit amet, consectetur adipiscing elit. Vestibulum nec placerat nibh, quis finibus turpis. Mauris auctor leo ut augue commodo ultrices. Integer egestas sed dolor vel cursus. Nam dignissim interdum massa.”\n",
    "<small>Lorem Ipsum | Class of 2019</small> \n",
    "    </blockquote>"
   ]
  },
  {
   "cell_type": "markdown",
   "metadata": {},
   "source": [
    "<blockquote class=\"alert-success\">\n",
    "     “Lorem ipsum dolor sit amet, consectetur adipiscing elit. Vestibulum nec placerat nibh, quis finibus turpis. Mauris auctor leo ut augue commodo ultrices. Integer egestas sed dolor vel cursus. Nam dignissim interdum massa.”\n",
    "<small>Lorem Ipsum | Class of 2019</small>\n",
    "    </blockquote>"
   ]
  },
  {
   "cell_type": "markdown",
   "metadata": {},
   "source": [
    "<blockquote class=\"alert-warning\">\n",
    "     “Lorem ipsum dolor sit amet, consectetur adipiscing elit. Vestibulum nec placerat nibh, quis finibus turpis. Mauris auctor leo ut augue commodo ultrices. Integer egestas sed dolor vel cursus. Nam dignissim interdum massa.”\n",
    "<small>Lorem Ipsum | Class of 2019</small>\n",
    "    </blockquote>"
   ]
  },
  {
   "cell_type": "markdown",
   "metadata": {},
   "source": [
    "<blockquote class=\"alert-danger\">\n",
    "     “Lorem ipsum dolor sit amet, consectetur adipiscing elit. Vestibulum nec placerat nibh, quis finibus turpis. Mauris auctor leo ut augue commodo ultrices. Integer egestas sed dolor vel cursus. Nam dignissim interdum massa.”\n",
    "<small>Lorem Ipsum | Class of 2019</small>\n",
    "    </blockquote>"
   ]
  },
  {
   "cell_type": "markdown",
   "metadata": {},
   "source": [
    "### Ultra Experimental Styles:\n",
    "- label styles:\n",
    "    - label-default: grey\n",
    "    - label-info: light blue\n",
    "    - label-primary: blue\n",
    "    - label-success: green\n",
    "    - label-warning: yellow\n",
    "    - label-danger: red"
   ]
  },
  {
   "cell_type": "markdown",
   "metadata": {},
   "source": [
    "<blockquote class=\"label-info\">\n",
    "     “Lorem ipsum dolor sit amet, consectetur adipiscing elit. Vestibulum nec placerat nibh, quis finibus turpis. Mauris auctor leo ut augue commodo ultrices. Integer egestas sed dolor vel cursus. Nam dignissim interdum massa.”\n",
    "<small>Lorem Ipsum | Class of 2019</small>\n",
    "    </blockquote>"
   ]
  },
  {
   "cell_type": "markdown",
   "metadata": {},
   "source": [
    "- progress-bar styles:\n",
    "    - progress-bar-info: light blue\n",
    "    - progress-bar-primary: blue\n",
    "    - progress-bar-success: green\n",
    "    - progress-bar-warning: organge\n",
    "    - progress-bar-danger: red  \n",
    "  \n",
    "All progress-bar styles can be used with progress-bar-striped to add stripes"
   ]
  },
  {
   "cell_type": "markdown",
   "metadata": {},
   "source": [
    "<blockquote class=\"progress-bar-warning\">\n",
    "     “Lorem ipsum dolor sit amet, consectetur adipiscing elit. Vestibulum nec placerat nibh, quis finibus turpis. Mauris auctor leo ut augue commodo ultrices. Integer egestas sed dolor vel cursus. Nam dignissim interdum massa.”\n",
    "Lorem Ipsum \n",
    "    </blockquote>"
   ]
  },
  {
   "cell_type": "markdown",
   "metadata": {},
   "source": [
    "<blockquote class=\"progress-bar-success progress-bar-striped\">\n",
    "    “Lorem ipsum dolor sit amet, consectetur adipiscing elit. Vestibulum nec placerat nibh, quis finibus turpis. Mauris auctor leo ut augue commodo ultrices. Integer egestas sed dolor vel cursus. Nam dignissim interdum massa.\n",
    "Lorem Ipsum \n",
    "    </blockquote>"
   ]
  },
  {
   "cell_type": "markdown",
   "metadata": {},
   "source": [
    "## Labels\n",
    "Adds colorfull tag to a heading. Nice to highlight short information"
   ]
  },
  {
   "cell_type": "markdown",
   "metadata": {},
   "source": [
    "<h1>Lab <span class=\"label label-primary\">5</span></h1>"
   ]
  },
  {
   "cell_type": "markdown",
   "metadata": {},
   "source": [
    "<h2>Functions <span class=\"label label-success\">New</span></h2>"
   ]
  },
  {
   "cell_type": "markdown",
   "metadata": {},
   "source": [
    "<h3>Lists <span class=\"label label-warning\">Revision</span></h3>"
   ]
  },
  {
   "cell_type": "markdown",
   "metadata": {},
   "source": [
    "<h4>Exercise <span class=\"label label-danger\">Find BUG</span></h4>"
   ]
  },
  {
   "cell_type": "markdown",
   "metadata": {},
   "source": [
    "## Breadcrumbs\n",
    "Breadcrumbs are good in indicating navigational hierarchy.\n",
    "Breadcrumbs can contain links"
   ]
  },
  {
   "cell_type": "markdown",
   "metadata": {},
   "source": [
    "<ol class=\"breadcrumb\">\n",
    "  <li><a href=\"#\">Lab</a></li>\n",
    "  <li><a href=\"#\">Functions</a></li>\n",
    "  <li class=\"active\">Example 1</li>\n",
    "</ol>"
   ]
  },
  {
   "cell_type": "code",
   "execution_count": 0,
   "metadata": {},
   "outputs": [],
   "source": []
  },
  {
   "cell_type": "code",
   "execution_count": 0,
   "metadata": {},
   "outputs": [],
   "source": []
  },
  {
   "cell_type": "markdown",
   "metadata": {},
   "source": [
    "<ol class=\"breadcrumb\">\n",
    "  <li><a href=\"#\">SSS1</a></li>\n",
    "  <li><a href=\"#\">Lab</a></li>\n",
    "  <li><a href=\"#\">Function</a></li>\n",
    "  <li>1</li>\n",
    "</ol>"
   ]
  },
  {
   "cell_type": "markdown",
   "metadata": {},
   "source": [
    "# Bootstrap Tables\n",
    "Look for external documentation:  \n",
    "https://www.w3schools.com/bootstrap/bootstrap_tables.asp  \n",
    "https://getbootstrap.com/docs/3.4/css/#tables"
   ]
  },
  {
   "cell_type": "markdown",
   "metadata": {},
   "source": [
    "  <table class=\"table table-striped table-responsive\">\n",
    "    <thead>\n",
    "      <tr>\n",
    "        <th>Firstname</th>\n",
    "        <th>Lastname</th>\n",
    "        <th>Email</th>\n",
    "      </tr>\n",
    "    </thead>\n",
    "    <tbody>\n",
    "      <tr>\n",
    "        <td>John</td>\n",
    "        <td>Doe</td>\n",
    "        <td>john@example.com</td>\n",
    "      </tr>\n",
    "      <tr>\n",
    "        <td>Mary</td>\n",
    "        <td>Moe</td>\n",
    "        <td>mary@example.com</td>\n",
    "      </tr>\n",
    "      <tr>\n",
    "        <td>July</td>\n",
    "        <td>Dooley</td>\n",
    "        <td>july@example.com</td>\n",
    "      </tr>\n",
    "    </tbody>\n",
    "  </table>\n",
    "\n"
   ]
  },
  {
   "cell_type": "markdown",
   "metadata": {},
   "source": [
    "## Bootstrap Grid Layout System\n",
    "Primary purpose of grid system is to add extra responsivity for webpages and creating layouts.  \n",
    "See documentation https://www.w3schools.com/bootstrap/bootstrap_grid_system.asp"
   ]
  },
  {
   "cell_type": "markdown",
   "metadata": {},
   "source": [
    "\n",
    "  <div class=\"row\">\n",
    "    <div class=\"col-md-6\">Lorem ipsum dolor sit amet, consectetur adipiscing elit. Curabitur quis enim vitae mauris rhoncus feugiat. Maecenas vitae consectetur massa. Maecenas porttitor odio eu vestibulum bibendum. Suspendisse commodo ex urna, id dictum mi scelerisque sed. Suspendisse interdum, dui non pellentesque rhoncus, neque ante luctus sapien, ut euismod nisi lorem ac ipsum. Etiam eget elit id sapien eleifend vestibulum. Nam quis felis hendrerit, cursus dolor eget, euismod lacus. Aenean volutpat a quam ut posuere. Duis nec sem luctus, placerat dolor sed, auctor lacus. Vestibulum suscipit nunc nibh. Aliquam id interdum justo. Maecenas rutrum diam leo, sit amet vulputate mi pretium tincidunt. Vivamus a ante facilisis, varius purus vel, scelerisque purus. Aliquam dictum odio nec ante ultrices accumsan. </div>\n",
    "    <div class=\"col-md-6\">In pretium ut magna eget pretium. Nulla vehicula leo a augue consectetur, vitae ultrices nisi vulputate. In lobortis lacus tempus consequat viverra. Sed turpis metus, tempus vel nisi ac, mattis fringilla dolor. Sed quis tellus ac lorem maximus laoreet faucibus sed diam. Curabitur nec enim magna. Nulla sagittis leo a massa condimentum, lobortis feugiat eros posuere. Curabitur commodo rhoncus lacus, in auctor felis pulvinar in. Sed sit amet eros malesuada, varius erat eu, suscipit felis. Etiam egestas, enim eu pulvinar sagittis, justo nunc sollicitudin metus, in vulputate leo diam vel sapien. Fusce ac nulla vehicula augue varius tristique sit amet in felis. Duis vel pretium ipsum, ac dapibus velit. Aliquam imperdiet luctus nisi eu feugiat. Vestibulum eget sapien a augue volutpat auctor sit amet id quam. </div>\n",
    "  </div>\n"
   ]
  },
  {
   "cell_type": "code",
   "execution_count": 0,
   "metadata": {},
   "outputs": [],
   "source": []
  },
  {
   "cell_type": "code",
   "execution_count": 0,
   "metadata": {},
   "outputs": [],
   "source": []
  },
  {
   "cell_type": "markdown",
   "metadata": {},
   "source": [
    "<div class=\"row\">\n",
    "    <div class=\"col-md-4 col-lg-2\"><img class=\"img-responsive responsive-img\" src=\"https://placekitten.com/640/640\" alt=\"...\"></div>\n",
    "    <div class=\"col-md-8 col-lg-10\">Lorem ipsum dolor sit amet, consectetur adipiscing elit. Curabitur quis enim vitae mauris rhoncus feugiat. Maecenas vitae consectetur massa. Maecenas porttitor odio eu vestibulum bibendum. Suspendisse commodo ex urna, id dictum mi scelerisque sed. Suspendisse interdum, dui non pellentesque rhoncus, neque ante luctus sapien, ut euismod nisi lorem ac ipsum. Etiam eget elit id sapien eleifend vestibulum. Nam quis felis hendrerit, cursus dolor eget, euismod lacus. Aenean volutpat a quam ut posuere. Duis nec sem luctus, placerat dolor sed, auctor lacus. Vestibulum suscipit nunc nibh. Aliquam id interdum justo. Maecenas rutrum diam leo, sit amet vulputate mi pretium tincidunt. Vivamus a ante facilisis, varius purus vel, scelerisque purus. Aliquam dictum odio nec ante ultrices accumsan.<br>In pretium ut magna eget pretium. Nulla vehicula leo a augue consectetur, vitae ultrices nisi vulputate. In lobortis lacus tempus consequat viverra. Sed turpis metus, tempus vel nisi ac, mattis fringilla dolor. Sed quis tellus ac lorem maximus laoreet faucibus sed diam. Curabitur nec enim magna. Nulla sagittis leo a massa condimentum, lobortis feugiat eros posuere. Curabitur commodo rhoncus lacus, in auctor felis pulvinar in. Sed sit amet eros malesuada, varius erat eu, suscipit felis. Etiam egestas, enim eu pulvinar sagittis, justo nunc sollicitudin metus, in vulputate leo diam vel sapien. Fusce ac nulla vehicula augue varius tristique sit amet in felis. Duis vel pretium ipsum, ac dapibus velit. Aliquam imperdiet luctus nisi eu feugiat. Vestibulum eget sapien a augue volutpat auctor sit amet id quam. </div>\n",
    "  </div>"
   ]
  },
  {
   "cell_type": "markdown",
   "metadata": {},
   "source": [
    "## PorgressBars\n",
    "Full documentation on https://getbootstrap.com/docs/3.4/components/#progress"
   ]
  },
  {
   "cell_type": "markdown",
   "metadata": {},
   "source": [
    "<div class=\"progress\">\n",
    "  <div class=\"progress-bar\" role=\"progressbar\" aria-valuenow=\"60\" aria-valuemin=\"0\" aria-valuemax=\"100\" style=\"width: 60%;\">\n",
    "    <span class=\"sr-only\">60% Complete</span>\n",
    "  </div>\n",
    "</div>"
   ]
  },
  {
   "cell_type": "markdown",
   "metadata": {},
   "source": [
    "<div class=\"progress\">\n",
    "  <div class=\"progress-bar progress-bar-success progress-bar-striped active\" role=\"progressbar\" aria-valuenow=\"40\" aria-valuemin=\"0\" aria-valuemax=\"100\" style=\"width: 100%\">\n",
    "    <span class=\"sr-only\">40% Complete (success)</span>\n",
    "  </div>\n",
    "</div>"
   ]
  },
  {
   "cell_type": "markdown",
   "metadata": {},
   "source": [
    "<div class=\"progress\">\n",
    "  <div class=\"progress-bar progress-bar-success progress-bar-striped active\" role=\"progressbar\" aria-valuenow=\"40\" aria-valuemin=\"0\" aria-valuemax=\"100\" style=\"width: 40%\">\n",
    "    <span class=\"sr-only\">40% Complete (success)</span>\n",
    "  </div>\n",
    "</div>\n",
    "<div class=\"progress\">\n",
    "  <div class=\"progress-bar progress-bar-info progress-bar-striped\" role=\"progressbar\" aria-valuenow=\"20\" aria-valuemin=\"0\" aria-valuemax=\"100\" style=\"width: 20%\">\n",
    "    <span class=\"sr-only\">20% Complete</span>\n",
    "  </div>\n",
    "</div>\n",
    "<div class=\"progress\">\n",
    "  <div class=\"progress-bar progress-bar-warning progress-bar-striped active\" role=\"progressbar\" aria-valuenow=\"60\" aria-valuemin=\"0\" aria-valuemax=\"100\" style=\"width: 60%\">\n",
    "    <span class=\"sr-only\">60% Complete (warning)</span>\n",
    "  </div>\n",
    "</div>\n",
    "<div class=\"progress\">\n",
    "  <div class=\"progress-bar progress-bar-danger progress-bar-striped\" role=\"progressbar\" aria-valuenow=\"80\" aria-valuemin=\"0\" aria-valuemax=\"100\" style=\"width: 80%\">\n",
    "    <span class=\"sr-only\">80% Complete (danger)</span>\n",
    "  </div>\n",
    "</div>"
   ]
  },
  {
   "cell_type": "markdown",
   "metadata": {},
   "source": [
    "Progress bar can be printed with python code that uses HTML and animated using JavaScript. Run these cells to see the result"
   ]
  },
  {
   "cell_type": "code",
   "execution_count": 0,
   "metadata": {},
   "outputs": [],
   "source": [
    "from IPython.core.display import display, HTML, Javascript\n",
    "display(HTML(\"\"\"<div class=\"progress\">\n",
    "  <div id=\"dynamic\" class=\"progress-bar progress-ba\n",
    "r-success progress-bar-striped active\" role=\"progressbar\" aria-valuenow=\"0\" aria-valuemin=\"0\" aria-valuemax=\"100\" style=\"width: 0%\">\n",
    "    <span id=\"current-progress\"></span>\n",
    "\n",
    "  </div>\n",
    "</div>\"\"\"))"
   ]
  },
  {
   "cell_type": "code",
   "execution_count": 0,
   "metadata": {},
   "outputs": [],
   "source": [
    "display(Javascript(\"\"\"$(function() {\n",
    "  var current_progress = 0;\n",
    "  var interval = setInterval(function() {\n",
    "      current_progress += 10;\n",
    "      $(\"#dynamic\")\n",
    "      .css(\"width\", current_progress + \"%\")\n",
    "      .attr(\"aria-valuenow\", current_progress)\n",
    "      .text(current_progress + \"% Complete\");\n",
    "      if (current_progress >= 100)\n",
    "          clearInterval(interval);\n",
    "  }, 1000);\n",
    "});\"\"\"))"
   ]
  },
  {
   "cell_type": "markdown",
   "metadata": {},
   "source": [
    "## Cards (Thumbnails)\n",
    "Docs: https://getbootstrap.com/docs/3.4/components/#thumbnails"
   ]
  },
  {
   "cell_type": "markdown",
   "metadata": {},
   "source": [
    "<div class=\"row\">\n",
    "  <div class=\"col-sm-6 col-md-4\">\n",
    "    <div class=\"thumbnail\">\n",
    "      <img src=\"https://placekitten.com/640/361\" alt=\"...\">\n",
    "      <div class=\"caption\">\n",
    "        <h3>Thumbnail label</h3>\n",
    "        <p>Lorem Ipsum dor sit amet setu amfer alroe. Deprofc em rule.</p>\n",
    "        <p><a href=\"#\" class=\"btn btn-primary\" role=\"button\">Button</a> <a href=\"#\" class=\"btn btn-default\" role=\"button\">Button</a></p>\n",
    "      </div>\n",
    "    </div>\n",
    "  </div>\n",
    "  <div class=\"col-sm-6 col-md-4\">\n",
    "    <div class=\"thumbnail\">\n",
    "      <img src=\"https://placekitten.com/640/362\" alt=\"...\">\n",
    "      <div class=\"caption\">\n",
    "        <h3>Thumbnail label</h3>\n",
    "        <p>Lorem Ipsum dor sit amet setu amfer alroe. Deprofc em rule.</p>\n",
    "        <p><a href=\"#\" class=\"btn btn-primary\" role=\"button\">Button</a> <a href=\"#\" class=\"btn btn-default\" role=\"button\">Button</a></p>\n",
    "      </div>\n",
    "    </div>\n",
    "  </div>\n",
    "  <div class=\"col-sm-6 col-md-4\">\n",
    "    <div class=\"thumbnail\">\n",
    "      <img src=\"https://loremflickr.com/640/360\" alt=\"...\">\n",
    "      <div class=\"caption\">\n",
    "        <h3>Thumbnail label</h3>\n",
    "        <p>Lorem Ipsum dor sit amet setu amfer alroe. Deprofc em rule.</p>\n",
    "        <p><a href=\"#\" class=\"btn btn-primary\" role=\"button\">Button</a> <a href=\"#\" class=\"btn btn-default\" role=\"button\">Button</a></p>\n",
    "      </div>\n",
    "    </div>\n",
    "  </div>\n",
    "</div>"
   ]
  },
  {
   "cell_type": "markdown",
   "metadata": {},
   "source": [
    "## Bootstrap Carousel\n",
    "Does not work on CoCalc. Should work in Jupyter Notebook"
   ]
  },
  {
   "cell_type": "markdown",
   "metadata": {},
   "source": [
    "<div id=\"carousel-example-generic\" class=\"carousel slide\" data-ride=\"carousel\">\n",
    "  <!-- Indicators -->\n",
    "  <ol class=\"carousel-indicators\">\n",
    "    <li data-target=\"#carousel-example-generic\" data-slide-to=\"0\" class=\"active\"></li>\n",
    "    <li data-target=\"#carousel-example-generic\" data-slide-to=\"1\"></li>\n",
    "    <li data-target=\"#carousel-example-generic\" data-slide-to=\"2\"></li>\n",
    "  </ol>\n",
    "\n",
    "  <!-- Wrapper for slides -->\n",
    "  <div class=\"carousel-inner\" role=\"listbox\">\n",
    "    <div class=\"item active\">\n",
    "      <img src=\"https://loremflickr.com/640/360\" alt=\"...\">\n",
    "      <div class=\"carousel-caption\">\n",
    "      </div>\n",
    "    </div>\n",
    "    <div class=\"item\">\n",
    "      <img src=\"https://loremflickr.com/640/361\" alt=\"...\">\n",
    "      <div class=\"carousel-caption\">\n",
    "      </div>\n",
    "    </div>\n",
    "    <div class=\"item\">\n",
    "      <img src=\"https://loremflickr.com/640/362\" alt=\"...\">\n",
    "      <div class=\"carousel-caption\">\n",
    "      </div>\n",
    "    </div>\n",
    "  </div>\n",
    "\n",
    "  <!-- Controls -->\n",
    "  <a class=\"left carousel-control\" href=\"#carousel-example-generic\" role=\"button\" data-slide=\"prev\">\n",
    "    <span class=\"glyphicon glyphicon-chevron-left\" aria-hidden=\"true\"></span>\n",
    "    <span class=\"sr-only\">Previous</span>\n",
    "  </a>\n",
    "  <a class=\"right carousel-control\" href=\"#carousel-example-generic\" role=\"button\" data-slide=\"next\">\n",
    "    <span class=\"glyphicon glyphicon-chevron-right\" aria-hidden=\"true\"></span>\n",
    "    <span class=\"sr-only\">Next</span>\n",
    "  </a>\n",
    "</div>"
   ]
  },
  {
   "cell_type": "markdown",
   "metadata": {},
   "source": [
    "## Always test your code on your target platform. CoCalc may apply diffent styles than clean installation of Jupyter Notebook"
   ]
  }
 ],
 "metadata": {
  "kernelspec": {
   "display_name": "Python 3",
   "language": "python",
   "name": "python3"
  },
  "language_info": {
   "codemirror_mode": {
    "name": "ipython",
    "version": 3
   },
   "file_extension": ".py",
   "mimetype": "text/x-python",
   "name": "python",
   "nbconvert_exporter": "python",
   "pygments_lexer": "ipython3",
   "version": "3.7.4"
  },
  "varInspector": {
   "cols": {
    "lenName": 16,
    "lenType": 16,
    "lenVar": 40
   },
   "kernels_config": {
    "python": {
     "delete_cmd_postfix": "",
     "delete_cmd_prefix": "del ",
     "library": "var_list.py",
     "varRefreshCmd": "print(var_dic_list())"
    },
    "r": {
     "delete_cmd_postfix": ") ",
     "delete_cmd_prefix": "rm(",
     "library": "var_list.r",
     "varRefreshCmd": "cat(var_dic_list()) "
    }
   },
   "types_to_exclude": [
    "module",
    "function",
    "builtin_function_or_method",
    "instance",
    "_Feature"
   ],
   "window_display": false
  }
 },
 "nbformat": 4,
 "nbformat_minor": 1
}
